{
 "cells": [
  {
   "cell_type": "markdown",
   "metadata": {},
   "source": [
    "# Projeto Programming - Regressão Linear"
   ]
  },
  {
   "cell_type": "markdown",
   "metadata": {},
   "source": [
    "Regressão Linear Simples : f_wb = w * x + b\n",
    "\n",
    "Regressão Linear Múltipla: f_wb = $\\overrightarrow{w}$ . $\\overrightarrow{x}$ + b"
   ]
  },
  {
   "cell_type": "markdown",
   "metadata": {},
   "source": [
    "## Criação do dataset"
   ]
  },
  {
   "cell_type": "code",
   "execution_count": 303,
   "metadata": {},
   "outputs": [],
   "source": [
    "import numpy as np\n",
    "import matplotlib.pyplot as plt"
   ]
  },
  {
   "cell_type": "code",
   "execution_count": 304,
   "metadata": {},
   "outputs": [],
   "source": [
    "def generate_dataset(n_points, dimensions = 2, mean = 5, std_dev = 0.25):\n",
    "\n",
    "    points = np.random.normal(loc= mean, scale= std_dev, size= (n_points, dimensions))        # Gera n_points vetores com dimensions colunas\n",
    "\n",
    "    return np.vstack(points)"
   ]
  },
  {
   "cell_type": "code",
   "execution_count": 305,
   "metadata": {},
   "outputs": [],
   "source": [
    "# Criação do dataset\n",
    "\n",
    "dataset = generate_dataset(30, dimensions = 2)"
   ]
  },
  {
   "cell_type": "markdown",
   "metadata": {},
   "source": [
    "## Iniciação da Regressão"
   ]
  },
  {
   "cell_type": "code",
   "execution_count": 306,
   "metadata": {},
   "outputs": [],
   "source": [
    "def initial_lin_reg(x, y):\n",
    "\n",
    "    if x.ndim == 1:                                         # Se tivermos apenas 1 variável independente\n",
    "\n",
    "        w, b = np.random.randint(1, 3, 2)                   # Gerar coeficientes de w e b (de 1 a 3)\n",
    "\n",
    "        y_hats = w * x + b                                  # Fazer previsões de y dado o w e b definidos acima\n",
    "\n",
    "        plt.scatter(x, y)\n",
    "        plt.plot(x, y_hats, color = 'red')\n",
    "\n",
    "        print(f'A representação inicial de y_hat = {w} x + {b}')\n",
    "\n",
    "    else:                                                   # Se tivermos mais do que 1 variável independente\n",
    "\n",
    "        w = np.random.randint(1,3,x.shape[1])               # Gerar coeficientes de w de 1 a 3 para cada variável independente\n",
    "\n",
    "        b = np.random.randint(1, 3)                         # Gerar o coeficiente de b de 1 a 3\n",
    "\n",
    "        y_hats = np.dot(x, w) + b\n",
    "\n",
    "        formula_regressao = \" + \".join([f\"{w[i]}*x{i+1}\" for i in range(len(w))]) if len(w) > 1 else f\"{w[0]}x + {b}\"\n",
    "        print(f'A representação inicial de y_hat = {formula_regressao} + {b}')\n",
    "\n",
    "    return x, y, w, b"
   ]
  },
  {
   "cell_type": "code",
   "execution_count": 307,
   "metadata": {},
   "outputs": [
    {
     "name": "stdout",
     "output_type": "stream",
     "text": [
      "A representação inicial de y_hat = 1 x + 2\n"
     ]
    },
    {
     "data": {
      "image/png": "[encoded data removed]",
      "text/plain": [
       "<Figure size 640x480 with 1 Axes>"
      ]
     },
     "metadata": {},
     "output_type": "display_data"
    }
   ],
   "source": [
    "# Exemplo para testar a função initial_lin_reg\n",
    "\n",
    "\n",
    "# x, y, w, b = initial_lin_reg(dataset[:, :-1], dataset[:, -1])           # Caso tenhamos + do que 1 variável independente\n",
    "\n",
    "x, y, w, b = initial_lin_reg(dataset[:,0], dataset[:,1])                # Caso tenhamos apenas 1 variável independente"
   ]
  },
  {
   "cell_type": "markdown",
   "metadata": {},
   "source": [
    "## Definição da função de custo - Mean Squared Error Function"
   ]
  },
  {
   "cell_type": "code",
   "execution_count": 308,
   "metadata": {},
   "outputs": [],
   "source": [
    "def cost_function(x, y, w, b):\n",
    "\n",
    "    m = len(x)                                              # Número de data points\n",
    "\n",
    "    if x.ndim == 1:\n",
    "        \n",
    "        y_hats = w * x + b                                  # Previsões de y caso a regressão seja simples\n",
    "    \n",
    "    else:\n",
    "\n",
    "        y_hats = np.dot(x, w) + b                           # Previsões de y caso a regressão seja múltipla    \n",
    "\n",
    "    cost = (1/(2*m)) * np.sum((y_hats - y) ** 2)            # Função custo\n",
    "\n",
    "    return cost"
   ]
  },
  {
   "cell_type": "code",
   "execution_count": 309,
   "metadata": {},
   "outputs": [
    {
     "name": "stdout",
     "output_type": "stream",
     "text": [
      "O custo da regressão para w = 1 e b = 2 é de 1.911106047314349.\n"
     ]
    }
   ],
   "source": [
    "initial_cost = cost_function(x, y, w, b)\n",
    "print(f'O custo da regressão para w = {w} e b = {b} é de {initial_cost}.')"
   ]
  },
  {
   "cell_type": "markdown",
   "metadata": {},
   "source": [
    "## Iniciação do Gradiente Descendente"
   ]
  },
  {
   "cell_type": "code",
   "execution_count": 310,
   "metadata": {},
   "outputs": [],
   "source": [
    "def gradient_descent(x, y, w, b, learning_rate = 0.01, n_iterations = 10000, min_error = 1e-6, min_update = 1e-6):\n",
    "\n",
    "    m = len(x)                                              # Número de data points\n",
    "    cost = []\n",
    "    prev_w, prev_b = w.copy(), b                            # Guardar os valores anteriores de w e b\n",
    "\n",
    "    for i in range(n_iterations):\n",
    "\n",
    "        if x.ndim == 1:\n",
    "            \n",
    "            y_hats = w * x + b\n",
    "            dcdw = (1/m) * np.sum((y_hats - y) * x)         # Derivada da cost function em relação a w\n",
    "        else: \n",
    "            \n",
    "            y_hats = np.dot(x, w) + b\n",
    "            dcdw = (1/m) * np.dot(x.T, (y_hats - y))        # Derivada da cost function em relação a w quando temos mais do que 1 variável indep.\n",
    "\n",
    "        dcdb = (1/m) * np.sum(y_hats - y)                   # Derivada da cost function em relação a b\n",
    "\n",
    "        w = w - learning_rate * dcdw                        # Atualização de w\n",
    "\n",
    "        b = b - learning_rate * dcdb                        # Atualização de b\n",
    "\n",
    "        current_cost = cost_function(x, y, w, b)\n",
    "        cost.append(current_cost)\n",
    "\n",
    "        if current_cost < min_error:\n",
    "            print(f'Paragem na iteração {i + 1} porque a função custo atual ({current_cost}) já não é superior a {min_error}.')\n",
    "            break\n",
    "        \n",
    "        if np.all(np.abs(w - prev_w) < min_update) and np.abs(b - prev_b) < min_update:\n",
    "            print(f'Paragem na iteração {i + 1} porque as alterações em w e b já não são maiores do que {min_update}.')\n",
    "            break\n",
    "\n",
    "        prev_w, prev_b = w.copy(), b\n",
    "    \n",
    "    else:\n",
    "        print(f'Paragem porque atingiu o número máximo de iterações: {i + 1}')\n",
    "\n",
    "    return w, b, cost"
   ]
  },
  {
   "cell_type": "code",
   "execution_count": 311,
   "metadata": {},
   "outputs": [
    {
     "name": "stdout",
     "output_type": "stream",
     "text": [
      "Paragem porque atingiu o número máximo de iterações: 10000\n"
     ]
    }
   ],
   "source": [
    "w_optimal, b_optimal, cost_history = gradient_descent(x, y, w, b)"
   ]
  },
  {
   "cell_type": "code",
   "execution_count": 312,
   "metadata": {},
   "outputs": [
    {
     "name": "stdout",
     "output_type": "stream",
     "text": [
      "O ótimo da regressão está definido em y_hat = 0.5177549805594528 x + 2.4520021693770397\n"
     ]
    },
    {
     "data": {
      "image/png": "[encoded data removed]",
      "text/plain": [
       "<Figure size 640x480 with 1 Axes>"
      ]
     },
     "metadata": {},
     "output_type": "display_data"
    }
   ],
   "source": [
    "if x.ndim == 1:\n",
    "\n",
    "    print(f'O ótimo da regressão está definido em y_hat = {w_optimal} x + {b_optimal}')\n",
    "\n",
    "    plt.scatter(x, y)\n",
    "    plt.plot(x, w_optimal* x + b_optimal, color = 'red')\n",
    "\n",
    "else:\n",
    "    formula_regressao = \" + \".join([f\"{w_optimal[i]}*x{i+1}\" for i in range(len(w_optimal))]) if len(w_optimal) > 1 else f\"{w_optimal[0]}x + {b_optimal}\"\n",
    "    print(f'O ótimo da regressão está definido em y_hat = {formula_regressao} + {b_optimal}')"
   ]
  },
  {
   "cell_type": "markdown",
   "metadata": {},
   "source": [
    "# Regressão Linear"
   ]
  },
  {
   "cell_type": "code",
   "execution_count": 313,
   "metadata": {},
   "outputs": [],
   "source": [
    "def linear_regression(x, y, learning_rate = 0.01, n_iterations = 10000, min_error = 1e-6, min_update = 1e-6):\n",
    "    \"\"\" Esta função recria o processo de regressão linear simples/múltipla. Inicia parâmetros aleatórios de w e b, ficando\n",
    "    assim com uma linha de referência. Depois, através do conceito de cost function, o gradiente descendente vai atualizar\n",
    "    os parâmetros de w e b de forma a otimizar o modelo de regressão, até ao ponto em que alguma das condições de paragem\n",
    "    (número de passos, erro mínimo ou alterações entre iterações mínima) é atingida; É devolvido da função o valor final de w,\n",
    "    o valor final de b, e o histórico da função custo;\n",
    "\n",
    "    x = features/input\n",
    "    y = label/ouput\n",
    "    learning_rate = tamanho da atualização dos parâmetros no processo de gradiente descendente\n",
    "    n_iterations = número máximo de atualizações de w e b\n",
    "    min_error = threshold de cost function para o algoritmo parar\n",
    "    min_update = threshold de atualizações em w e b para o algoritmo parar\n",
    "    \n",
    "    \"\"\"\n",
    "\n",
    "    def initial_lin_reg(x):\n",
    "        if x.ndim == 1:                                         # Se tivermos apenas 1 variável independente\n",
    "            w, b = np.random.randint(1, 3, 2)                   # Gerar coeficientes de w e b (de 1 a 3)\n",
    "            y_hats = w * x + b                                  # Fazer previsões de y dado o w e b definidos acima\n",
    "\n",
    "        else:                                                   # Se tivermos mais do que 1 variável independente\n",
    "            w = np.random.randint(1,3,x.shape[1])               # Gerar coeficientes de w de 1 a 3 para cada variável independente\n",
    "            b = np.random.randint(1, 3)                         # Gerar o coeficiente de b de 1 a 3\n",
    "            y_hats = np.dot(x, w) + b\n",
    "\n",
    "        return w, b\n",
    "    \n",
    "    def cost_function(x, y, w, b):\n",
    "        m = len(x)                                              # Número de data points\n",
    "        if x.ndim == 1:\n",
    "            y_hats = w * x + b                                  # Previsões de y caso a regressão seja simples\n",
    "        \n",
    "        else:\n",
    "            y_hats = np.dot(x, w) + b                           # Previsões de y caso a regressão seja múltipla    \n",
    "        cost = (1/(2*m)) * np.sum((y_hats - y) ** 2)            # Função custo\n",
    "\n",
    "        return cost\n",
    "    \n",
    "    def gradient_descent(x, y, w, b, learning_rate, n_iterations, min_error, min_update):\n",
    "        m = len(x)                                              # Número de data points\n",
    "        cost_hist = []\n",
    "        prev_w, prev_b = w, b                                   # Guarda os valores anteriores de w e b\n",
    "\n",
    "        for i in range(n_iterations):\n",
    "            if x.ndim == 1:\n",
    "                y_hats = w * x + b\n",
    "                dcdw = (1/m) * np.sum((y_hats - y) * x)         # Derivada da cost function em relação a w\n",
    "\n",
    "            else: \n",
    "                y_hats = np.dot(x, w) + b\n",
    "                dcdw = (1/m) * np.dot(x.T, (y_hats - y))        # Derivada da cost function em relação a w quando temos mais do que 1 variável indep.\n",
    "            dcdb = (1/m) * np.sum(y_hats - y)                   # Derivada da cost function em relação a b\n",
    "\n",
    "            w_new = w - learning_rate * dcdw                    # Atualização de w\n",
    "            b_new = b - learning_rate * dcdb                    # Atualização de b\n",
    "\n",
    "            current_cost = cost_function(x, y, w_new, b_new)\n",
    "            cost_hist.append(current_cost)\n",
    "\n",
    "            if (np.array_equal(w_new, w) if not np.isscalar(w) else w_new == w) and b_new == b:          # Se não houver mais atualizações dos parâmetros\n",
    "                break\n",
    "\n",
    "            if current_cost < min_error:\n",
    "                break\n",
    "\n",
    "            if np.all(np.abs(w_new - w) < min_update) and np.abs(b_new - b) < min_update:\n",
    "                break\n",
    "\n",
    "            w, b = w_new, b_new\n",
    "\n",
    "        return w, b, cost_hist\n",
    "    \n",
    "    if x.ndim == 1:\n",
    "        print(f'O ótimo da regressão está definido em y_hat = {w_optimal} x + {b_optimal}')\n",
    "        plt.scatter(x, y)\n",
    "        plt.plot(x, w_optimal* x + b_optimal, color = 'red')\n",
    "        plt.title('Representação final do dataset e regressão')\n",
    "\n",
    "    else:\n",
    "        formula_regressao = \" + \".join([f\"{w_optimal[i]}*x{i+1}\" for i in range(len(w_optimal))]) if len(w_optimal) > 1 else f\"{w_optimal[0]}x + {b_optimal}\"\n",
    "        print(f'O ótimo da regressão está definido em y_hat = {formula_regressao} + {b_optimal}')\n",
    "    \n",
    "    return w, b, cost_history"
   ]
  },
  {
   "cell_type": "code",
   "execution_count": 314,
   "metadata": {},
   "outputs": [
    {
     "name": "stdout",
     "output_type": "stream",
     "text": [
      "O ótimo da regressão está definido em y_hat = 0.5177549805594528 x + 2.4520021693770397\n"
     ]
    },
    {
     "data": {
      "text/plain": [
       "[0.02306073562522369,\n",
       " 0.02306051694819696,\n",
       " 0.02306029828324069,\n",
       " 0.0230600796303543,\n",
       " 0.023059860989537044,\n",
       " 0.023059642360788335,\n",
       " 0.023059423744107514,\n",
       " 0.02305920513949382,\n",
       " 0.02305898654694665,\n",
       " 0.023058767966465336,\n",
       " 0.023058549398049195,\n",
       " 0.023058330841697547,\n",
       " 0.0230581122974098,\n",
       " 0.023057893765185234,\n",
       " 0.023057675245023133,\n",
       " 0.023057456736922936,\n",
       " 0.02305723824088389,\n",
       " 0.0230570197569054,\n",
       " 0.023056801284986755,\n",
       " 0.02305658282512729]"
      ]
     },
     "execution_count": 314,
     "metadata": {},
     "output_type": "execute_result"
    },
    {
     "data": {
      "image/png": "[encoded data removed]",
      "text/plain": [
       "<Figure size 640x480 with 1 Axes>"
      ]
     },
     "metadata": {},
     "output_type": "display_data"
    }
   ],
   "source": [
    "w_final, b_final, cost_history = linear_regression(dataset[:,0], dataset[:,1])             # Apenas 1 feature\n",
    "\n",
    "# w_final, b_final, cost_history = linear_regression(dataset[:, :-1], dataset[:, -1])      # Quando temos + do que 1 feature\n",
    "\n",
    "cost_history[-20:]"
   ]
  },
  {
   "cell_type": "code",
   "execution_count": 315,
   "metadata": {},
   "outputs": [],
   "source": [
    "def generate_linear_dataset1(n_points, slope=1, intercept=0, noise_std=0.25):\n",
    "    # Gera uma variável independente (X) aleatória\n",
    "    X = np.linspace(0, 10, n_points)  # X vai de 0 a 10 com n_points valores\n",
    "    \n",
    "    # Gera Y com base na equação Y = mX + b (linear), com algum ruído\n",
    "    Y = slope * X + intercept + np.random.normal(0, noise_std, n_points)  # Adiciona um pouco de ruído para realismo\n",
    "    \n",
    "    # Empilha os dados para formar um conjunto de dados 2D (X, Y)\n",
    "    return np.vstack((X, Y)).T"
   ]
  }
 ],
 "metadata": {
  "kernelspec": {
   "display_name": "base",
   "language": "python",
   "name": "python3"
  },
  "language_info": {
   "codemirror_mode": {
    "name": "ipython",
    "version": 3
   },
   "file_extension": ".py",
   "mimetype": "text/x-python",
   "name": "python",
   "nbconvert_exporter": "python",
   "pygments_lexer": "ipython3",
   "version": "3.12.7"
  }
 },
 "nbformat": 4,
 "nbformat_minor": 2
}
